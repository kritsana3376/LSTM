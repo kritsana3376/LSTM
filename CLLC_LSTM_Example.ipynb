{
 "cells": [
  {
   "cell_type": "code",
   "execution_count": 1,
   "metadata": {},
   "outputs": [],
   "source": [
    "import numpy as np\n",
    "import pandas as pd\n",
    "import tensorflow as tf\n",
    "from sklearn.preprocessing import MinMaxScaler\n",
    "from tensorflow.keras.models import Sequential\n",
    "from tensorflow.keras.layers import LSTM, Dense\n",
    "from sklearn.model_selection import train_test_split\n",
    "from sklearn.metrics import mean_absolute_error, mean_squared_error, r2_score\n",
    "import matplotlib.pyplot as plt\n"
   ]
  },
  {
   "cell_type": "code",
   "execution_count": 2,
   "metadata": {},
   "outputs": [],
   "source": [
    "# Load your dataset\n",
    "data = pd.read_csv('cllc_converter_data.csv')  # Adjust path as necessary\n"
   ]
  },
  {
   "cell_type": "code",
   "execution_count": 3,
   "metadata": {},
   "outputs": [
    {
     "data": {
      "text/html": [
       "<div>\n",
       "<style scoped>\n",
       "    .dataframe tbody tr th:only-of-type {\n",
       "        vertical-align: middle;\n",
       "    }\n",
       "\n",
       "    .dataframe tbody tr th {\n",
       "        vertical-align: top;\n",
       "    }\n",
       "\n",
       "    .dataframe thead th {\n",
       "        text-align: right;\n",
       "    }\n",
       "</style>\n",
       "<table border=\"1\" class=\"dataframe\">\n",
       "  <thead>\n",
       "    <tr style=\"text-align: right;\">\n",
       "      <th></th>\n",
       "      <th>time</th>\n",
       "      <th>voltage</th>\n",
       "      <th>current</th>\n",
       "      <th>frequency</th>\n",
       "    </tr>\n",
       "  </thead>\n",
       "  <tbody>\n",
       "    <tr>\n",
       "      <th>0</th>\n",
       "      <td>0</td>\n",
       "      <td>100.993428</td>\n",
       "      <td>11.899355</td>\n",
       "      <td>49.662411</td>\n",
       "    </tr>\n",
       "    <tr>\n",
       "      <th>1</th>\n",
       "      <td>1</td>\n",
       "      <td>99.823470</td>\n",
       "      <td>11.424534</td>\n",
       "      <td>49.957740</td>\n",
       "    </tr>\n",
       "    <tr>\n",
       "      <th>2</th>\n",
       "      <td>2</td>\n",
       "      <td>101.495364</td>\n",
       "      <td>10.559230</td>\n",
       "      <td>49.663781</td>\n",
       "    </tr>\n",
       "    <tr>\n",
       "      <th>3</th>\n",
       "      <td>3</td>\n",
       "      <td>103.346015</td>\n",
       "      <td>9.852163</td>\n",
       "      <td>49.935989</td>\n",
       "    </tr>\n",
       "    <tr>\n",
       "      <th>4</th>\n",
       "      <td>4</td>\n",
       "      <td>99.931587</td>\n",
       "      <td>11.196624</td>\n",
       "      <td>49.173121</td>\n",
       "    </tr>\n",
       "    <tr>\n",
       "      <th>...</th>\n",
       "      <td>...</td>\n",
       "      <td>...</td>\n",
       "      <td>...</td>\n",
       "      <td>...</td>\n",
       "    </tr>\n",
       "    <tr>\n",
       "      <th>995</th>\n",
       "      <td>995</td>\n",
       "      <td>94.423748</td>\n",
       "      <td>11.318743</td>\n",
       "      <td>51.449506</td>\n",
       "    </tr>\n",
       "    <tr>\n",
       "      <th>996</th>\n",
       "      <td>996</td>\n",
       "      <td>98.495053</td>\n",
       "      <td>10.213346</td>\n",
       "      <td>51.518219</td>\n",
       "    </tr>\n",
       "    <tr>\n",
       "      <th>997</th>\n",
       "      <td>997</td>\n",
       "      <td>96.095606</td>\n",
       "      <td>9.349171</td>\n",
       "      <td>50.746728</td>\n",
       "    </tr>\n",
       "    <tr>\n",
       "      <th>998</th>\n",
       "      <td>998</td>\n",
       "      <td>93.586322</td>\n",
       "      <td>10.059065</td>\n",
       "      <td>51.512653</td>\n",
       "    </tr>\n",
       "    <tr>\n",
       "      <th>999</th>\n",
       "      <td>999</td>\n",
       "      <td>95.789132</td>\n",
       "      <td>9.468226</td>\n",
       "      <td>51.245590</td>\n",
       "    </tr>\n",
       "  </tbody>\n",
       "</table>\n",
       "<p>1000 rows × 4 columns</p>\n",
       "</div>"
      ],
      "text/plain": [
       "     time     voltage    current  frequency\n",
       "0       0  100.993428  11.899355  49.662411\n",
       "1       1   99.823470  11.424534  49.957740\n",
       "2       2  101.495364  10.559230  49.663781\n",
       "3       3  103.346015   9.852163  49.935989\n",
       "4       4   99.931587  11.196624  49.173121\n",
       "..    ...         ...        ...        ...\n",
       "995   995   94.423748  11.318743  51.449506\n",
       "996   996   98.495053  10.213346  51.518219\n",
       "997   997   96.095606   9.349171  50.746728\n",
       "998   998   93.586322  10.059065  51.512653\n",
       "999   999   95.789132   9.468226  51.245590\n",
       "\n",
       "[1000 rows x 4 columns]"
      ]
     },
     "execution_count": 3,
     "metadata": {},
     "output_type": "execute_result"
    }
   ],
   "source": [
    "data"
   ]
  },
  {
   "cell_type": "code",
   "execution_count": 4,
   "metadata": {},
   "outputs": [],
   "source": [
    "# data.drop(columns=\"Unnamed: 0\", inplace=True)"
   ]
  },
  {
   "cell_type": "code",
   "execution_count": 5,
   "metadata": {},
   "outputs": [
    {
     "data": {
      "text/html": [
       "<div>\n",
       "<style scoped>\n",
       "    .dataframe tbody tr th:only-of-type {\n",
       "        vertical-align: middle;\n",
       "    }\n",
       "\n",
       "    .dataframe tbody tr th {\n",
       "        vertical-align: top;\n",
       "    }\n",
       "\n",
       "    .dataframe thead th {\n",
       "        text-align: right;\n",
       "    }\n",
       "</style>\n",
       "<table border=\"1\" class=\"dataframe\">\n",
       "  <thead>\n",
       "    <tr style=\"text-align: right;\">\n",
       "      <th></th>\n",
       "      <th>time</th>\n",
       "      <th>voltage</th>\n",
       "      <th>current</th>\n",
       "      <th>frequency</th>\n",
       "    </tr>\n",
       "  </thead>\n",
       "  <tbody>\n",
       "    <tr>\n",
       "      <th>0</th>\n",
       "      <td>0</td>\n",
       "      <td>100.993428</td>\n",
       "      <td>11.899355</td>\n",
       "      <td>49.662411</td>\n",
       "    </tr>\n",
       "    <tr>\n",
       "      <th>1</th>\n",
       "      <td>1</td>\n",
       "      <td>99.823470</td>\n",
       "      <td>11.424534</td>\n",
       "      <td>49.957740</td>\n",
       "    </tr>\n",
       "    <tr>\n",
       "      <th>2</th>\n",
       "      <td>2</td>\n",
       "      <td>101.495364</td>\n",
       "      <td>10.559230</td>\n",
       "      <td>49.663781</td>\n",
       "    </tr>\n",
       "    <tr>\n",
       "      <th>3</th>\n",
       "      <td>3</td>\n",
       "      <td>103.346015</td>\n",
       "      <td>9.852163</td>\n",
       "      <td>49.935989</td>\n",
       "    </tr>\n",
       "    <tr>\n",
       "      <th>4</th>\n",
       "      <td>4</td>\n",
       "      <td>99.931587</td>\n",
       "      <td>11.196624</td>\n",
       "      <td>49.173121</td>\n",
       "    </tr>\n",
       "    <tr>\n",
       "      <th>...</th>\n",
       "      <td>...</td>\n",
       "      <td>...</td>\n",
       "      <td>...</td>\n",
       "      <td>...</td>\n",
       "    </tr>\n",
       "    <tr>\n",
       "      <th>995</th>\n",
       "      <td>995</td>\n",
       "      <td>94.423748</td>\n",
       "      <td>11.318743</td>\n",
       "      <td>51.449506</td>\n",
       "    </tr>\n",
       "    <tr>\n",
       "      <th>996</th>\n",
       "      <td>996</td>\n",
       "      <td>98.495053</td>\n",
       "      <td>10.213346</td>\n",
       "      <td>51.518219</td>\n",
       "    </tr>\n",
       "    <tr>\n",
       "      <th>997</th>\n",
       "      <td>997</td>\n",
       "      <td>96.095606</td>\n",
       "      <td>9.349171</td>\n",
       "      <td>50.746728</td>\n",
       "    </tr>\n",
       "    <tr>\n",
       "      <th>998</th>\n",
       "      <td>998</td>\n",
       "      <td>93.586322</td>\n",
       "      <td>10.059065</td>\n",
       "      <td>51.512653</td>\n",
       "    </tr>\n",
       "    <tr>\n",
       "      <th>999</th>\n",
       "      <td>999</td>\n",
       "      <td>95.789132</td>\n",
       "      <td>9.468226</td>\n",
       "      <td>51.245590</td>\n",
       "    </tr>\n",
       "  </tbody>\n",
       "</table>\n",
       "<p>1000 rows × 4 columns</p>\n",
       "</div>"
      ],
      "text/plain": [
       "     time     voltage    current  frequency\n",
       "0       0  100.993428  11.899355  49.662411\n",
       "1       1   99.823470  11.424534  49.957740\n",
       "2       2  101.495364  10.559230  49.663781\n",
       "3       3  103.346015   9.852163  49.935989\n",
       "4       4   99.931587  11.196624  49.173121\n",
       "..    ...         ...        ...        ...\n",
       "995   995   94.423748  11.318743  51.449506\n",
       "996   996   98.495053  10.213346  51.518219\n",
       "997   997   96.095606   9.349171  50.746728\n",
       "998   998   93.586322  10.059065  51.512653\n",
       "999   999   95.789132   9.468226  51.245590\n",
       "\n",
       "[1000 rows x 4 columns]"
      ]
     },
     "execution_count": 5,
     "metadata": {},
     "output_type": "execute_result"
    }
   ],
   "source": [
    "data"
   ]
  },
  {
   "cell_type": "code",
   "execution_count": null,
   "metadata": {},
   "outputs": [
    {
     "data": {
      "text/plain": [
       "0.5032760933918541"
      ]
     },
     "execution_count": 8,
     "metadata": {},
     "output_type": "execute_result"
    }
   ],
   "source": [
    "# # Use MinMaxScaler to normalize the data\n",
    "scal1 = (data['voltage'][0] - data['voltage'].to_numpy().min())/(data['voltage'].to_numpy().max() - data['voltage'].to_numpy().min())\n",
    "scal1"
   ]
  },
  {
   "cell_type": "code",
   "execution_count": 9,
   "metadata": {},
   "outputs": [],
   "source": [
    "# Use MinMaxScaler to normalize the data\n",
    "scaler = MinMaxScaler(feature_range=(0, 1))\n",
    "scaled_data = scaler.fit_transform(data[['voltage', 'current', 'frequency']].values)  # Adjust features as needed"
   ]
  },
  {
   "cell_type": "markdown",
   "metadata": {},
   "source": [
    "# In case sequence_length=3 "
   ]
  },
  {
   "cell_type": "code",
   "execution_count": 13,
   "metadata": {},
   "outputs": [
    {
     "data": {
      "text/plain": [
       "array([[0.50327609, 0.73837726, 0.43100795],\n",
       "       [0.46552505, 0.66843588, 0.47489744],\n",
       "       [0.51947204, 0.54097647, 0.43121157],\n",
       "       [0.57918698, 0.43682532, 0.47166502]])"
      ]
     },
     "execution_count": 13,
     "metadata": {},
     "output_type": "execute_result"
    }
   ],
   "source": [
    "scaled_data[0:4]"
   ]
  },
  {
   "cell_type": "code",
   "execution_count": null,
   "metadata": {},
   "outputs": [
    {
     "data": {
      "text/plain": [
       "array([[0.50327609, 0.73837726, 0.43100795],\n",
       "       [0.46552505, 0.66843588, 0.47489744],\n",
       "       [0.51947204, 0.54097647, 0.43121157]])"
      ]
     },
     "execution_count": 11,
     "metadata": {},
     "output_type": "execute_result"
    }
   ],
   "source": [
    "# X[0] = scaled_data[0:3] \n",
    "scaled_data[0:3]"
   ]
  },
  {
   "cell_type": "code",
   "execution_count": null,
   "metadata": {},
   "outputs": [
    {
     "data": {
      "text/plain": [
       "0.47166502271297617"
      ]
     },
     "execution_count": 12,
     "metadata": {},
     "output_type": "execute_result"
    }
   ],
   "source": [
    "# Y[0] = scaled_data[3,2]\n",
    "scaled_data[3,2]"
   ]
  },
  {
   "cell_type": "code",
   "execution_count": 36,
   "metadata": {},
   "outputs": [],
   "source": [
    "# Prepare the data for LSTM\n",
    "def create_sequences(data, sequence_length=50):\n",
    "    X, y = [], []\n",
    "    for i in range(len(data) - sequence_length):\n",
    "        X.append(data[i:i + sequence_length])\n",
    "        y.append(data[i + sequence_length, 0])  # Assuming voltage is the target (adjust if needed)\n",
    "    return np.array(X), np.array(y)\n"
   ]
  },
  {
   "cell_type": "code",
   "execution_count": 38,
   "metadata": {},
   "outputs": [],
   "source": [
    "sequence_length = 50  # Example: Use last 50 time steps to predict the next\n",
    "X, y = create_sequences(scaled_data)\n",
    "\n",
    "# Train-test split\n",
    "X_train, X_test, y_train, y_test = train_test_split(X, y, test_size=0.2, shuffle=False)\n",
    "\n",
    "# Reshape the data to match LSTM input shape (samples, time steps, features)\n",
    "X_train = X_train.reshape((X_train.shape[0], X_train.shape[1], X_train.shape[2]))\n",
    "X_test = X_test.reshape((X_test.shape[0], X_test.shape[1], X_test.shape[2]))\n"
   ]
  },
  {
   "cell_type": "code",
   "execution_count": 6,
   "metadata": {},
   "outputs": [],
   "source": [
    "# Build the LSTM model\n",
    "model = Sequential()\n",
    "model.add(LSTM(units=50, return_sequences=False, input_shape=(X_train.shape[1], X_train.shape[2])))\n",
    "model.add(Dense(1))  # Predicting the next voltage value"
   ]
  },
  {
   "cell_type": "code",
   "execution_count": 7,
   "metadata": {},
   "outputs": [],
   "source": [
    "# Compile the model\n",
    "model.compile(optimizer='adam', loss='mean_squared_error')"
   ]
  },
  {
   "cell_type": "code",
   "execution_count": 8,
   "metadata": {},
   "outputs": [
    {
     "name": "stdout",
     "output_type": "stream",
     "text": [
      "Model: \"sequential\"\n",
      "_________________________________________________________________\n",
      " Layer (type)                Output Shape              Param #   \n",
      "=================================================================\n",
      " lstm (LSTM)                 (None, 50)                10800     \n",
      "                                                                 \n",
      " dense (Dense)               (None, 1)                 51        \n",
      "                                                                 \n",
      "=================================================================\n",
      "Total params: 10,851\n",
      "Trainable params: 10,851\n",
      "Non-trainable params: 0\n",
      "_________________________________________________________________\n"
     ]
    }
   ],
   "source": [
    "model.summary()"
   ]
  },
  {
   "cell_type": "code",
   "execution_count": 10,
   "metadata": {},
   "outputs": [
    {
     "name": "stdout",
     "output_type": "stream",
     "text": [
      "Epoch 1/10\n",
      "24/24 [==============================] - 0s 13ms/step - loss: 0.0048 - val_loss: 0.0057\n",
      "Epoch 2/10\n",
      "24/24 [==============================] - 0s 10ms/step - loss: 0.0048 - val_loss: 0.0046\n",
      "Epoch 3/10\n",
      "24/24 [==============================] - 0s 8ms/step - loss: 0.0048 - val_loss: 0.0048\n",
      "Epoch 4/10\n",
      "24/24 [==============================] - 0s 8ms/step - loss: 0.0047 - val_loss: 0.0045\n",
      "Epoch 5/10\n",
      "24/24 [==============================] - 0s 7ms/step - loss: 0.0047 - val_loss: 0.0044\n",
      "Epoch 6/10\n",
      "24/24 [==============================] - 0s 7ms/step - loss: 0.0047 - val_loss: 0.0048\n",
      "Epoch 7/10\n",
      "24/24 [==============================] - 0s 7ms/step - loss: 0.0047 - val_loss: 0.0043\n",
      "Epoch 8/10\n",
      "24/24 [==============================] - 0s 7ms/step - loss: 0.0046 - val_loss: 0.0052\n",
      "Epoch 9/10\n",
      "24/24 [==============================] - 0s 7ms/step - loss: 0.0047 - val_loss: 0.0045\n",
      "Epoch 10/10\n",
      "24/24 [==============================] - 0s 8ms/step - loss: 0.0048 - val_loss: 0.0049\n"
     ]
    },
    {
     "data": {
      "text/plain": [
       "<keras.callbacks.History at 0x1d4bba51fd0>"
      ]
     },
     "execution_count": 10,
     "metadata": {},
     "output_type": "execute_result"
    }
   ],
   "source": [
    "# Train the model\n",
    "model.fit(X_train, y_train, epochs=10, batch_size=32, validation_data=(X_test, y_test))"
   ]
  },
  {
   "cell_type": "code",
   "execution_count": 11,
   "metadata": {},
   "outputs": [
    {
     "name": "stdout",
     "output_type": "stream",
     "text": [
      "6/6 [==============================] - 0s 5ms/step\n"
     ]
    }
   ],
   "source": [
    "# Make predictions\n",
    "predictions = model.predict(X_test)"
   ]
  },
  {
   "cell_type": "code",
   "execution_count": 12,
   "metadata": {},
   "outputs": [],
   "source": [
    "# Reverse the scaling of predictions\n",
    "predictions_rescaled = scaler.inverse_transform(np.hstack((predictions, np.zeros((predictions.shape[0], X_test.shape[2] - 1)))))"
   ]
  },
  {
   "cell_type": "code",
   "execution_count": 13,
   "metadata": {},
   "outputs": [
    {
     "name": "stdout",
     "output_type": "stream",
     "text": [
      "Mean Absolute Error: 103.50942919255574\n",
      "Mean Squared Error: 10732.717289996972\n",
      "R^2 Score: -372413.4870404404\n"
     ]
    }
   ],
   "source": [
    "# Evaluate the regression model using MAE, MSE, and R2\n",
    "mae = mean_absolute_error(y_test, predictions_rescaled[:, 0])\n",
    "mse = mean_squared_error(y_test, predictions_rescaled[:, 0])\n",
    "r2 = r2_score(y_test, predictions_rescaled[:, 0])\n",
    "\n",
    "print(f'Mean Absolute Error: {mae}')\n",
    "print(f'Mean Squared Error: {mse}')\n",
    "print(f'R^2 Score: {r2}')"
   ]
  },
  {
   "cell_type": "code",
   "execution_count": 14,
   "metadata": {},
   "outputs": [
    {
     "data": {
      "image/png": "[encoded data removed]",
      "text/plain": [
       "<Figure size 640x480 with 1 Axes>"
      ]
     },
     "metadata": {},
     "output_type": "display_data"
    }
   ],
   "source": [
    "# Plot the results\n",
    "plt.plot(predictions_rescaled[:, 0], label='Predicted Voltage')\n",
    "plt.plot(scaler.inverse_transform((np.hstack((y_test.reshape(-1, 1), np.zeros((y_test.shape[0], X_test.shape[2] - 1))))))[:, 0], label='True Voltage')\n",
    "plt.legend()\n",
    "plt.show()"
   ]
  },
  {
   "cell_type": "code",
   "execution_count": 15,
   "metadata": {},
   "outputs": [],
   "source": [
    "# Save Model\n",
    "model.save('my_lstm_model.keras')\n"
   ]
  }
 ],
 "metadata": {
  "kernelspec": {
   "display_name": "tf2",
   "language": "python",
   "name": "python3"
  },
  "language_info": {
   "codemirror_mode": {
    "name": "ipython",
    "version": 3
   },
   "file_extension": ".py",
   "mimetype": "text/x-python",
   "name": "python",
   "nbconvert_exporter": "python",
   "pygments_lexer": "ipython3",
   "version": "3.9.21"
  }
 },
 "nbformat": 4,
 "nbformat_minor": 2
}
