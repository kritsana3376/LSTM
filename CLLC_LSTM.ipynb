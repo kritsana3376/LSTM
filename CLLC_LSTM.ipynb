{
 "cells": [
  {
   "cell_type": "code",
   "execution_count": 207,
   "metadata": {},
   "outputs": [],
   "source": [
    "import numpy as np\n",
    "import pandas as pd\n",
    "import tensorflow as tf\n",
    "from sklearn.preprocessing import MinMaxScaler\n",
    "from tensorflow.keras.models import Sequential\n",
    "from tensorflow.keras.layers import LSTM, Dense\n",
    "from sklearn.model_selection import train_test_split\n",
    "from sklearn.metrics import mean_absolute_error, mean_squared_error, r2_score\n",
    "import matplotlib.pyplot as plt\n"
   ]
  },
  {
   "cell_type": "code",
   "execution_count": 208,
   "metadata": {},
   "outputs": [],
   "source": [
    "# Load your dataset\n",
    "data = pd.read_csv('Test.csv')  # Adjust path as necessary"
   ]
  },
  {
   "cell_type": "code",
   "execution_count": 209,
   "metadata": {},
   "outputs": [
    {
     "data": {
      "text/html": [
       "<div>\n",
       "<style scoped>\n",
       "    .dataframe tbody tr th:only-of-type {\n",
       "        vertical-align: middle;\n",
       "    }\n",
       "\n",
       "    .dataframe tbody tr th {\n",
       "        vertical-align: top;\n",
       "    }\n",
       "\n",
       "    .dataframe thead th {\n",
       "        text-align: right;\n",
       "    }\n",
       "</style>\n",
       "<table border=\"1\" class=\"dataframe\">\n",
       "  <thead>\n",
       "    <tr style=\"text-align: right;\">\n",
       "      <th></th>\n",
       "      <th>Unnamed: 0</th>\n",
       "      <th>TimeLine</th>\n",
       "      <th>HV_SwitchingFreq_Rail1</th>\n",
       "      <th>VS_Bulk_HvDc</th>\n",
       "      <th>CS_Shunt_HVDC_R1</th>\n",
       "      <th>HV_OutPwr</th>\n",
       "      <th>VS_Vout_Sense_HVDC</th>\n",
       "      <th>MainsRMSCurrent</th>\n",
       "      <th>MainsRMSVoltage</th>\n",
       "    </tr>\n",
       "  </thead>\n",
       "  <tbody>\n",
       "    <tr>\n",
       "      <th>0</th>\n",
       "      <td>0</td>\n",
       "      <td>0.000000</td>\n",
       "      <td>300</td>\n",
       "      <td>154.7</td>\n",
       "      <td>0.08</td>\n",
       "      <td>22.0</td>\n",
       "      <td>279.4</td>\n",
       "      <td>0.0</td>\n",
       "      <td>218.5</td>\n",
       "    </tr>\n",
       "    <tr>\n",
       "      <th>1</th>\n",
       "      <td>1</td>\n",
       "      <td>5.032512</td>\n",
       "      <td>300</td>\n",
       "      <td>154.0</td>\n",
       "      <td>0.08</td>\n",
       "      <td>22.0</td>\n",
       "      <td>279.4</td>\n",
       "      <td>0.0</td>\n",
       "      <td>218.5</td>\n",
       "    </tr>\n",
       "    <tr>\n",
       "      <th>2</th>\n",
       "      <td>2</td>\n",
       "      <td>10.065025</td>\n",
       "      <td>300</td>\n",
       "      <td>153.4</td>\n",
       "      <td>0.09</td>\n",
       "      <td>22.0</td>\n",
       "      <td>279.4</td>\n",
       "      <td>0.0</td>\n",
       "      <td>218.5</td>\n",
       "    </tr>\n",
       "    <tr>\n",
       "      <th>3</th>\n",
       "      <td>3</td>\n",
       "      <td>15.097537</td>\n",
       "      <td>300</td>\n",
       "      <td>339.5</td>\n",
       "      <td>0.09</td>\n",
       "      <td>25.0</td>\n",
       "      <td>279.4</td>\n",
       "      <td>0.5</td>\n",
       "      <td>219.0</td>\n",
       "    </tr>\n",
       "    <tr>\n",
       "      <th>4</th>\n",
       "      <td>4</td>\n",
       "      <td>20.130049</td>\n",
       "      <td>300</td>\n",
       "      <td>550.9</td>\n",
       "      <td>0.08</td>\n",
       "      <td>25.0</td>\n",
       "      <td>279.4</td>\n",
       "      <td>0.6</td>\n",
       "      <td>219.0</td>\n",
       "    </tr>\n",
       "    <tr>\n",
       "      <th>...</th>\n",
       "      <td>...</td>\n",
       "      <td>...</td>\n",
       "      <td>...</td>\n",
       "      <td>...</td>\n",
       "      <td>...</td>\n",
       "      <td>...</td>\n",
       "      <td>...</td>\n",
       "      <td>...</td>\n",
       "      <td>...</td>\n",
       "    </tr>\n",
       "    <tr>\n",
       "      <th>4056</th>\n",
       "      <td>4056</td>\n",
       "      <td>20411.869951</td>\n",
       "      <td>300</td>\n",
       "      <td>686.7</td>\n",
       "      <td>5.00</td>\n",
       "      <td>1394.0</td>\n",
       "      <td>279.4</td>\n",
       "      <td>2.2</td>\n",
       "      <td>219.0</td>\n",
       "    </tr>\n",
       "    <tr>\n",
       "      <th>4057</th>\n",
       "      <td>4057</td>\n",
       "      <td>20416.902463</td>\n",
       "      <td>300</td>\n",
       "      <td>688.0</td>\n",
       "      <td>5.00</td>\n",
       "      <td>1397.0</td>\n",
       "      <td>279.4</td>\n",
       "      <td>2.2</td>\n",
       "      <td>219.0</td>\n",
       "    </tr>\n",
       "    <tr>\n",
       "      <th>4058</th>\n",
       "      <td>4058</td>\n",
       "      <td>20421.934975</td>\n",
       "      <td>300</td>\n",
       "      <td>687.5</td>\n",
       "      <td>5.00</td>\n",
       "      <td>1397.0</td>\n",
       "      <td>279.8</td>\n",
       "      <td>2.2</td>\n",
       "      <td>219.0</td>\n",
       "    </tr>\n",
       "    <tr>\n",
       "      <th>4059</th>\n",
       "      <td>4059</td>\n",
       "      <td>20426.967488</td>\n",
       "      <td>300</td>\n",
       "      <td>688.6</td>\n",
       "      <td>4.99</td>\n",
       "      <td>1396.0</td>\n",
       "      <td>279.4</td>\n",
       "      <td>2.2</td>\n",
       "      <td>219.0</td>\n",
       "    </tr>\n",
       "    <tr>\n",
       "      <th>4060</th>\n",
       "      <td>4060</td>\n",
       "      <td>20432.000000</td>\n",
       "      <td>300</td>\n",
       "      <td>688.5</td>\n",
       "      <td>5.00</td>\n",
       "      <td>1397.0</td>\n",
       "      <td>279.4</td>\n",
       "      <td>2.1</td>\n",
       "      <td>219.0</td>\n",
       "    </tr>\n",
       "  </tbody>\n",
       "</table>\n",
       "<p>4061 rows × 9 columns</p>\n",
       "</div>"
      ],
      "text/plain": [
       "      Unnamed: 0      TimeLine  HV_SwitchingFreq_Rail1  VS_Bulk_HvDc  \\\n",
       "0              0      0.000000                     300         154.7   \n",
       "1              1      5.032512                     300         154.0   \n",
       "2              2     10.065025                     300         153.4   \n",
       "3              3     15.097537                     300         339.5   \n",
       "4              4     20.130049                     300         550.9   \n",
       "...          ...           ...                     ...           ...   \n",
       "4056        4056  20411.869951                     300         686.7   \n",
       "4057        4057  20416.902463                     300         688.0   \n",
       "4058        4058  20421.934975                     300         687.5   \n",
       "4059        4059  20426.967488                     300         688.6   \n",
       "4060        4060  20432.000000                     300         688.5   \n",
       "\n",
       "      CS_Shunt_HVDC_R1  HV_OutPwr  VS_Vout_Sense_HVDC  MainsRMSCurrent  \\\n",
       "0                 0.08       22.0               279.4              0.0   \n",
       "1                 0.08       22.0               279.4              0.0   \n",
       "2                 0.09       22.0               279.4              0.0   \n",
       "3                 0.09       25.0               279.4              0.5   \n",
       "4                 0.08       25.0               279.4              0.6   \n",
       "...                ...        ...                 ...              ...   \n",
       "4056              5.00     1394.0               279.4              2.2   \n",
       "4057              5.00     1397.0               279.4              2.2   \n",
       "4058              5.00     1397.0               279.8              2.2   \n",
       "4059              4.99     1396.0               279.4              2.2   \n",
       "4060              5.00     1397.0               279.4              2.1   \n",
       "\n",
       "      MainsRMSVoltage  \n",
       "0               218.5  \n",
       "1               218.5  \n",
       "2               218.5  \n",
       "3               219.0  \n",
       "4               219.0  \n",
       "...               ...  \n",
       "4056            219.0  \n",
       "4057            219.0  \n",
       "4058            219.0  \n",
       "4059            219.0  \n",
       "4060            219.0  \n",
       "\n",
       "[4061 rows x 9 columns]"
      ]
     },
     "execution_count": 209,
     "metadata": {},
     "output_type": "execute_result"
    }
   ],
   "source": [
    "data"
   ]
  },
  {
   "cell_type": "code",
   "execution_count": 210,
   "metadata": {},
   "outputs": [],
   "source": [
    "data.drop(columns=\"Unnamed: 0\", inplace=True)"
   ]
  },
  {
   "cell_type": "code",
   "execution_count": null,
   "metadata": {},
   "outputs": [],
   "source": []
  },
  {
   "cell_type": "code",
   "execution_count": 211,
   "metadata": {},
   "outputs": [
    {
     "data": {
      "text/html": [
       "<div>\n",
       "<style scoped>\n",
       "    .dataframe tbody tr th:only-of-type {\n",
       "        vertical-align: middle;\n",
       "    }\n",
       "\n",
       "    .dataframe tbody tr th {\n",
       "        vertical-align: top;\n",
       "    }\n",
       "\n",
       "    .dataframe thead th {\n",
       "        text-align: right;\n",
       "    }\n",
       "</style>\n",
       "<table border=\"1\" class=\"dataframe\">\n",
       "  <thead>\n",
       "    <tr style=\"text-align: right;\">\n",
       "      <th></th>\n",
       "      <th>TimeLine</th>\n",
       "      <th>HV_SwitchingFreq_Rail1</th>\n",
       "      <th>VS_Bulk_HvDc</th>\n",
       "      <th>CS_Shunt_HVDC_R1</th>\n",
       "      <th>HV_OutPwr</th>\n",
       "      <th>VS_Vout_Sense_HVDC</th>\n",
       "      <th>MainsRMSCurrent</th>\n",
       "      <th>MainsRMSVoltage</th>\n",
       "    </tr>\n",
       "  </thead>\n",
       "  <tbody>\n",
       "    <tr>\n",
       "      <th>0</th>\n",
       "      <td>0.000000</td>\n",
       "      <td>300</td>\n",
       "      <td>154.7</td>\n",
       "      <td>0.08</td>\n",
       "      <td>22.0</td>\n",
       "      <td>279.4</td>\n",
       "      <td>0.0</td>\n",
       "      <td>218.5</td>\n",
       "    </tr>\n",
       "    <tr>\n",
       "      <th>1</th>\n",
       "      <td>5.032512</td>\n",
       "      <td>300</td>\n",
       "      <td>154.0</td>\n",
       "      <td>0.08</td>\n",
       "      <td>22.0</td>\n",
       "      <td>279.4</td>\n",
       "      <td>0.0</td>\n",
       "      <td>218.5</td>\n",
       "    </tr>\n",
       "    <tr>\n",
       "      <th>2</th>\n",
       "      <td>10.065025</td>\n",
       "      <td>300</td>\n",
       "      <td>153.4</td>\n",
       "      <td>0.09</td>\n",
       "      <td>22.0</td>\n",
       "      <td>279.4</td>\n",
       "      <td>0.0</td>\n",
       "      <td>218.5</td>\n",
       "    </tr>\n",
       "    <tr>\n",
       "      <th>3</th>\n",
       "      <td>15.097537</td>\n",
       "      <td>300</td>\n",
       "      <td>339.5</td>\n",
       "      <td>0.09</td>\n",
       "      <td>25.0</td>\n",
       "      <td>279.4</td>\n",
       "      <td>0.5</td>\n",
       "      <td>219.0</td>\n",
       "    </tr>\n",
       "    <tr>\n",
       "      <th>4</th>\n",
       "      <td>20.130049</td>\n",
       "      <td>300</td>\n",
       "      <td>550.9</td>\n",
       "      <td>0.08</td>\n",
       "      <td>25.0</td>\n",
       "      <td>279.4</td>\n",
       "      <td>0.6</td>\n",
       "      <td>219.0</td>\n",
       "    </tr>\n",
       "    <tr>\n",
       "      <th>...</th>\n",
       "      <td>...</td>\n",
       "      <td>...</td>\n",
       "      <td>...</td>\n",
       "      <td>...</td>\n",
       "      <td>...</td>\n",
       "      <td>...</td>\n",
       "      <td>...</td>\n",
       "      <td>...</td>\n",
       "    </tr>\n",
       "    <tr>\n",
       "      <th>4056</th>\n",
       "      <td>20411.869951</td>\n",
       "      <td>300</td>\n",
       "      <td>686.7</td>\n",
       "      <td>5.00</td>\n",
       "      <td>1394.0</td>\n",
       "      <td>279.4</td>\n",
       "      <td>2.2</td>\n",
       "      <td>219.0</td>\n",
       "    </tr>\n",
       "    <tr>\n",
       "      <th>4057</th>\n",
       "      <td>20416.902463</td>\n",
       "      <td>300</td>\n",
       "      <td>688.0</td>\n",
       "      <td>5.00</td>\n",
       "      <td>1397.0</td>\n",
       "      <td>279.4</td>\n",
       "      <td>2.2</td>\n",
       "      <td>219.0</td>\n",
       "    </tr>\n",
       "    <tr>\n",
       "      <th>4058</th>\n",
       "      <td>20421.934975</td>\n",
       "      <td>300</td>\n",
       "      <td>687.5</td>\n",
       "      <td>5.00</td>\n",
       "      <td>1397.0</td>\n",
       "      <td>279.8</td>\n",
       "      <td>2.2</td>\n",
       "      <td>219.0</td>\n",
       "    </tr>\n",
       "    <tr>\n",
       "      <th>4059</th>\n",
       "      <td>20426.967488</td>\n",
       "      <td>300</td>\n",
       "      <td>688.6</td>\n",
       "      <td>4.99</td>\n",
       "      <td>1396.0</td>\n",
       "      <td>279.4</td>\n",
       "      <td>2.2</td>\n",
       "      <td>219.0</td>\n",
       "    </tr>\n",
       "    <tr>\n",
       "      <th>4060</th>\n",
       "      <td>20432.000000</td>\n",
       "      <td>300</td>\n",
       "      <td>688.5</td>\n",
       "      <td>5.00</td>\n",
       "      <td>1397.0</td>\n",
       "      <td>279.4</td>\n",
       "      <td>2.1</td>\n",
       "      <td>219.0</td>\n",
       "    </tr>\n",
       "  </tbody>\n",
       "</table>\n",
       "<p>4061 rows × 8 columns</p>\n",
       "</div>"
      ],
      "text/plain": [
       "          TimeLine  HV_SwitchingFreq_Rail1  VS_Bulk_HvDc  CS_Shunt_HVDC_R1  \\\n",
       "0         0.000000                     300         154.7              0.08   \n",
       "1         5.032512                     300         154.0              0.08   \n",
       "2        10.065025                     300         153.4              0.09   \n",
       "3        15.097537                     300         339.5              0.09   \n",
       "4        20.130049                     300         550.9              0.08   \n",
       "...            ...                     ...           ...               ...   \n",
       "4056  20411.869951                     300         686.7              5.00   \n",
       "4057  20416.902463                     300         688.0              5.00   \n",
       "4058  20421.934975                     300         687.5              5.00   \n",
       "4059  20426.967488                     300         688.6              4.99   \n",
       "4060  20432.000000                     300         688.5              5.00   \n",
       "\n",
       "      HV_OutPwr  VS_Vout_Sense_HVDC  MainsRMSCurrent  MainsRMSVoltage  \n",
       "0          22.0               279.4              0.0            218.5  \n",
       "1          22.0               279.4              0.0            218.5  \n",
       "2          22.0               279.4              0.0            218.5  \n",
       "3          25.0               279.4              0.5            219.0  \n",
       "4          25.0               279.4              0.6            219.0  \n",
       "...         ...                 ...              ...              ...  \n",
       "4056     1394.0               279.4              2.2            219.0  \n",
       "4057     1397.0               279.4              2.2            219.0  \n",
       "4058     1397.0               279.8              2.2            219.0  \n",
       "4059     1396.0               279.4              2.2            219.0  \n",
       "4060     1397.0               279.4              2.1            219.0  \n",
       "\n",
       "[4061 rows x 8 columns]"
      ]
     },
     "execution_count": 211,
     "metadata": {},
     "output_type": "execute_result"
    }
   ],
   "source": [
    "data"
   ]
  },
  {
   "cell_type": "code",
   "execution_count": 212,
   "metadata": {},
   "outputs": [
    {
     "data": {
      "text/plain": [
       "1.0"
      ]
     },
     "execution_count": 212,
     "metadata": {},
     "output_type": "execute_result"
    }
   ],
   "source": [
    "# # Use MinMaxScaler to normalize the data\n",
    "scal1 = (data['HV_SwitchingFreq_Rail1'][0] - data['HV_SwitchingFreq_Rail1'].to_numpy().min())/(data['HV_SwitchingFreq_Rail1'].to_numpy().max() - data['HV_SwitchingFreq_Rail1'].to_numpy().min())\n",
    "scal1"
   ]
  },
  {
   "cell_type": "code",
   "execution_count": 213,
   "metadata": {},
   "outputs": [],
   "source": [
    "# Use MinMaxScaler to normalize the data\n",
    "scaler = MinMaxScaler(feature_range=(0, 1))\n",
    "scaled_data = scaler.fit_transform(data[['HV_SwitchingFreq_Rail1', 'VS_Bulk_HvDc', 'CS_Shunt_HVDC_R1', \n",
    "                                         'HV_OutPwr', 'VS_Vout_Sense_HVDC', 'MainsRMSCurrent', 'MainsRMSVoltage']].values)\n"
   ]
  },
  {
   "cell_type": "markdown",
   "metadata": {},
   "source": [
    "# In case sequence_length=3 "
   ]
  },
  {
   "cell_type": "code",
   "execution_count": 214,
   "metadata": {},
   "outputs": [
    {
     "data": {
      "text/plain": [
       "array([[1.        , 0.19043467, 0.0079602 , 0.0057971 , 0.38513514,\n",
       "        0.        , 0.        ],\n",
       "       [1.        , 0.18956283, 0.0079602 , 0.0057971 , 0.38513514,\n",
       "        0.        , 0.        ],\n",
       "       [1.        , 0.18881554, 0.00895522, 0.0057971 , 0.38513514,\n",
       "        0.        , 0.        ],\n",
       "       [1.        , 0.42060032, 0.00895522, 0.00658762, 0.38513514,\n",
       "        0.08333333, 0.5       ]])"
      ]
     },
     "execution_count": 214,
     "metadata": {},
     "output_type": "execute_result"
    }
   ],
   "source": [
    "scaled_data[0:4]"
   ]
  },
  {
   "cell_type": "code",
   "execution_count": 215,
   "metadata": {},
   "outputs": [
    {
     "data": {
      "text/plain": [
       "array([[1.        , 0.19043467, 0.0079602 , 0.0057971 , 0.38513514,\n",
       "        0.        , 0.        ],\n",
       "       [1.        , 0.18956283, 0.0079602 , 0.0057971 , 0.38513514,\n",
       "        0.        , 0.        ],\n",
       "       [1.        , 0.18881554, 0.00895522, 0.0057971 , 0.38513514,\n",
       "        0.        , 0.        ]])"
      ]
     },
     "execution_count": 215,
     "metadata": {},
     "output_type": "execute_result"
    }
   ],
   "source": [
    "# X[0] = scaled_data[0:3] \n",
    "scaled_data[0:3]"
   ]
  },
  {
   "cell_type": "code",
   "execution_count": 216,
   "metadata": {},
   "outputs": [
    {
     "data": {
      "text/plain": [
       "0.008955223880597014"
      ]
     },
     "execution_count": 216,
     "metadata": {},
     "output_type": "execute_result"
    }
   ],
   "source": [
    "# Y[0] = scaled_data[3,2]\n",
    "scaled_data[3,2]"
   ]
  },
  {
   "cell_type": "code",
   "execution_count": 217,
   "metadata": {},
   "outputs": [],
   "source": [
    "# Prepare the data for LSTM\n",
    "def create_sequences(data, sequence_length=3):\n",
    "    X, y = [], []\n",
    "    for i in range(len(data) - sequence_length):\n",
    "        X.append(data[i:i + sequence_length])\n",
    "        y.append(data[i + sequence_length, 0])  # 'HV_SwitchingFreq_Rail1' is at index 0\n",
    "    return np.array(X), np.array(y)\n"
   ]
  },
  {
   "cell_type": "code",
   "execution_count": 218,
   "metadata": {},
   "outputs": [
    {
     "name": "stdout",
     "output_type": "stream",
     "text": [
      "[[1.         0.19043467 0.0079602  0.0057971  0.38513514 0.\n",
      "  0.        ]\n",
      " [1.         0.18956283 0.0079602  0.0057971  0.38513514 0.\n",
      "  0.        ]\n",
      " [1.         0.18881554 0.00895522 0.0057971  0.38513514 0.\n",
      "  0.        ]]\n",
      "1.0\n"
     ]
    }
   ],
   "source": [
    "sequence_length = 3  # Example: Use last 50 time steps to predict the next\n",
    "X, y = create_sequences(scaled_data)\n",
    "print(X[0])\n",
    "\n",
    "print(y[0])"
   ]
  },
  {
   "cell_type": "code",
   "execution_count": 219,
   "metadata": {},
   "outputs": [],
   "source": [
    "# Train-test split\n",
    "X_train, X_test, y_train, y_test = train_test_split(X, y, test_size=0.2, shuffle=False)\n",
    "\n",
    "# Reshape the data to match LSTM input shape (samples, time steps, features)\n",
    "X_train = X_train.reshape((X_train.shape[0], X_train.shape[1], X_train.shape[2]))\n",
    "X_test = X_test.reshape((X_test.shape[0], X_test.shape[1], X_test.shape[2]))"
   ]
  },
  {
   "cell_type": "code",
   "execution_count": 220,
   "metadata": {},
   "outputs": [],
   "source": [
    "# Build the LSTM model\n",
    "model = Sequential()\n",
    "model.add(LSTM(units=100, return_sequences=False, input_shape=(X_train.shape[1], X_train.shape[2])))\n",
    "model.add(Dense(1))  # Predicting the next voltage value"
   ]
  },
  {
   "cell_type": "code",
   "execution_count": 221,
   "metadata": {},
   "outputs": [],
   "source": [
    "# Compile the model\n",
    "model.compile(optimizer='adam', loss='mean_squared_error')"
   ]
  },
  {
   "cell_type": "code",
   "execution_count": 222,
   "metadata": {},
   "outputs": [
    {
     "name": "stdout",
     "output_type": "stream",
     "text": [
      "Model: \"sequential_9\"\n",
      "_________________________________________________________________\n",
      " Layer (type)                Output Shape              Param #   \n",
      "=================================================================\n",
      " lstm_9 (LSTM)               (None, 100)               43200     \n",
      "                                                                 \n",
      " dense_15 (Dense)            (None, 1)                 101       \n",
      "                                                                 \n",
      "=================================================================\n",
      "Total params: 43,301\n",
      "Trainable params: 43,301\n",
      "Non-trainable params: 0\n",
      "_________________________________________________________________\n"
     ]
    }
   ],
   "source": [
    "model.summary()"
   ]
  },
  {
   "cell_type": "code",
   "execution_count": 223,
   "metadata": {},
   "outputs": [
    {
     "name": "stdout",
     "output_type": "stream",
     "text": [
      "Epoch 1/10\n",
      "102/102 [==============================] - 2s 7ms/step - loss: 0.0530 - val_loss: 0.0060\n",
      "Epoch 2/10\n",
      "102/102 [==============================] - 0s 4ms/step - loss: 0.0083 - val_loss: 0.0054\n",
      "Epoch 3/10\n",
      "102/102 [==============================] - 0s 4ms/step - loss: 0.0076 - val_loss: 0.0059\n",
      "Epoch 4/10\n",
      "102/102 [==============================] - 0s 4ms/step - loss: 0.0073 - val_loss: 0.0050\n",
      "Epoch 5/10\n",
      "102/102 [==============================] - 0s 4ms/step - loss: 0.0066 - val_loss: 0.0049\n",
      "Epoch 6/10\n",
      "102/102 [==============================] - 0s 4ms/step - loss: 0.0066 - val_loss: 0.0051\n",
      "Epoch 7/10\n",
      "102/102 [==============================] - 0s 4ms/step - loss: 0.0061 - val_loss: 0.0046\n",
      "Epoch 8/10\n",
      "102/102 [==============================] - 0s 4ms/step - loss: 0.0057 - val_loss: 0.0048\n",
      "Epoch 9/10\n",
      "102/102 [==============================] - 0s 4ms/step - loss: 0.0053 - val_loss: 0.0047\n",
      "Epoch 10/10\n",
      "102/102 [==============================] - 0s 4ms/step - loss: 0.0052 - val_loss: 0.0063\n"
     ]
    },
    {
     "data": {
      "text/plain": [
       "<keras.callbacks.History at 0x28d7b5e4250>"
      ]
     },
     "execution_count": 223,
     "metadata": {},
     "output_type": "execute_result"
    }
   ],
   "source": [
    "# Train the model\n",
    "model.fit(X_train, y_train, epochs=10, batch_size=32, validation_data=(X_test, y_test))"
   ]
  },
  {
   "cell_type": "code",
   "execution_count": 224,
   "metadata": {},
   "outputs": [
    {
     "name": "stdout",
     "output_type": "stream",
     "text": [
      "26/26 [==============================] - 0s 1ms/step\n"
     ]
    }
   ],
   "source": [
    "# Make predictions\n",
    "predictions = model.predict(X_test)"
   ]
  },
  {
   "cell_type": "code",
   "execution_count": 225,
   "metadata": {},
   "outputs": [],
   "source": [
    "# Reverse the scaling of predictions\n",
    "# If you are predicting HV_SwitchingFreq_Rail1 (1st column, index 0):\n",
    "predictions_rescaled = scaler.inverse_transform(np.hstack((predictions, np.zeros((predictions.shape[0], X_test.shape[2] - 1)))))\n",
    "\n"
   ]
  },
  {
   "cell_type": "code",
   "execution_count": 226,
   "metadata": {},
   "outputs": [
    {
     "name": "stdout",
     "output_type": "stream",
     "text": [
      "Mean Absolute Error: 278.7406428065041\n",
      "Mean Squared Error: 78290.6320736924\n",
      "R^2 Score: -2930475.668031677\n"
     ]
    }
   ],
   "source": [
    "# Evaluate the regression model using MAE, MSE, and R2\n",
    "mae = mean_absolute_error(y_test, predictions_rescaled[:, 0])\n",
    "mse = mean_squared_error(y_test, predictions_rescaled[:, 0])\n",
    "r2 = r2_score(y_test, predictions_rescaled[:, 0])\n",
    "\n",
    "print(f'Mean Absolute Error: {mae}')\n",
    "print(f'Mean Squared Error: {mse}')\n",
    "print(f'R^2 Score: {r2}')"
   ]
  },
  {
   "cell_type": "code",
   "execution_count": 227,
   "metadata": {},
   "outputs": [
    {
     "data": {
      "image/png": "[encoded data removed]",
      "text/plain": [
       "<Figure size 640x480 with 1 Axes>"
      ]
     },
     "metadata": {},
     "output_type": "display_data"
    }
   ],
   "source": [
    "# Plot the results\n",
    "plt.plot(predictions_rescaled[:, 0], label='Predicted HV_SwitchingFreq_Rail1')\n",
    "plt.plot(scaler.inverse_transform((np.hstack((y_test.reshape(-1, 1), np.zeros((y_test.shape[0], X_test.shape[2] - 1))))))[:, 0], label='Actual HV_SwitchingFreq_Rail1')\n",
    "plt.legend()\n",
    "plt.show()"
   ]
  },
  {
   "cell_type": "code",
   "execution_count": 228,
   "metadata": {},
   "outputs": [],
   "source": [
    "# Save Model\n",
    "model.save('my_lstm_model.keras')\n",
    "model.save(\"lstm_model.h5\")  # Saves the entire model\n"
   ]
  },
  {
   "cell_type": "code",
   "execution_count": null,
   "metadata": {},
   "outputs": [],
   "source": []
  }
 ],
 "metadata": {
  "kernelspec": {
   "display_name": "tf2",
   "language": "python",
   "name": "python3"
  },
  "language_info": {
   "codemirror_mode": {
    "name": "ipython",
    "version": 3
   },
   "file_extension": ".py",
   "mimetype": "text/x-python",
   "name": "python",
   "nbconvert_exporter": "python",
   "pygments_lexer": "ipython3",
   "version": "3.9.21"
  }
 },
 "nbformat": 4,
 "nbformat_minor": 2
}
